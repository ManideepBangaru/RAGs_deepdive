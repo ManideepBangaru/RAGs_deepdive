{
 "cells": [
  {
   "cell_type": "markdown",
   "metadata": {},
   "source": [
    "## Installing required libraries"
   ]
  },
  {
   "cell_type": "code",
   "execution_count": 11,
   "metadata": {},
   "outputs": [],
   "source": [
    "# !pip install unstructured==0.16.6\n",
    "# !pip install pdfminer.six\n",
    "# !pip install pillow \n",
    "# !pip install pi_heif\n",
    "# !pip install unstructured_inference\n",
    "# !pip install poppler-utils\n",
    "# !pip install pdf2image\n",
    "# !conda install -c conda-forge poppler  \n",
    "# !pip install unstructured_pytesseract\n",
    "# !conda install -c conda-forge tesseract"
   ]
  },
  {
   "cell_type": "markdown",
   "metadata": {},
   "source": [
    "## Importing the required components"
   ]
  },
  {
   "cell_type": "code",
   "execution_count": 12,
   "metadata": {},
   "outputs": [],
   "source": [
    "from unstructured.partition.pdf import partition_pdf"
   ]
  },
  {
   "cell_type": "markdown",
   "metadata": {},
   "source": [
    "## Parsing the PDF"
   ]
  },
  {
   "cell_type": "code",
   "execution_count": null,
   "metadata": {},
   "outputs": [],
   "source": [
    "import os\n",
    "\n",
    "file_path = \"./docs/attention.pdf\"\n",
    "\n",
    "if os.path.exists(file_path) and file_path.endswith('.pdf'):\n",
    "    try:\n",
    "        chunks = partition_pdf(\n",
    "            filename=file_path,\n",
    "            infer_table_structure=True,\n",
    "            strategy=\"hi_res\",\n",
    "            extract_image_block_types=[\"Image\"],\n",
    "            extract_image_block_to_payload=True,\n",
    "            chunking_strategy=\"by_title\",\n",
    "            max_characters=10000,\n",
    "            combine_text_under_n_chars=2000,\n",
    "            new_after_n_chars=6000\n",
    "        )\n",
    "    except Exception as e:\n",
    "        print(f\"Error processing PDF: {e}\")\n",
    "else:\n",
    "    print(\"File does not exist or is not a valid PDF.\")"
   ]
  },
  {
   "cell_type": "code",
   "execution_count": null,
   "metadata": {},
   "outputs": [],
   "source": [
    "chunks"
   ]
  },
  {
   "cell_type": "code",
   "execution_count": null,
   "metadata": {},
   "outputs": [],
   "source": [
    "from IPython.display import display, Markdown\n",
    "\n",
    "display(Markdown(chunks[2].text))"
   ]
  },
  {
   "cell_type": "code",
   "execution_count": null,
   "metadata": {},
   "outputs": [],
   "source": [
    "chunks[2].metadata.orig_elements"
   ]
  },
  {
   "cell_type": "code",
   "execution_count": null,
   "metadata": {},
   "outputs": [],
   "source": [
    "chunks[6].metadata.text_as_html"
   ]
  },
  {
   "cell_type": "markdown",
   "metadata": {},
   "source": [
    "## Separate images, texts, and tables"
   ]
  },
  {
   "cell_type": "code",
   "execution_count": null,
   "metadata": {},
   "outputs": [],
   "source": [
    "chunks"
   ]
  },
  {
   "cell_type": "code",
   "execution_count": 19,
   "metadata": {},
   "outputs": [],
   "source": [
    "import unstructured\n",
    "\n",
    "texts, tables, images = [], [], []\n",
    "\n",
    "for chunk in chunks:\n",
    "        \n",
    "    if isinstance(chunk, unstructured.documents.elements.Table):\n",
    "        tables.append(chunk)\n",
    "\n",
    "    if isinstance(chunk, unstructured.documents.elements.CompositeElement):\n",
    "        texts.append(chunk)\n",
    "        \n",
    "        chunk_elements = chunk.metadata.orig_elements\n",
    "        \n",
    "        # iterate over all elements of this chunk\n",
    "        for element in chunk_elements:\n",
    "               \n",
    "            if isinstance(element, unstructured.documents.elements.Image):\n",
    "                images.append(element.metadata.image_base64)"
   ]
  },
  {
   "cell_type": "code",
   "execution_count": null,
   "metadata": {},
   "outputs": [],
   "source": [
    "print(\"Total Texts:\", len(texts))\n",
    "print(\"Total Images:\", len(images))\n",
    "print(\"Total Tables:\", len(tables))"
   ]
  },
  {
   "cell_type": "code",
   "execution_count": null,
   "metadata": {},
   "outputs": [],
   "source": [
    "import base64\n",
    "from IPython.display import Image, display\n",
    "\n",
    "image_data = base64.b64decode(images[1])\n",
    "    \n",
    "display(Image(data=image_data))"
   ]
  },
  {
   "cell_type": "code",
   "execution_count": 34,
   "metadata": {},
   "outputs": [],
   "source": [
    "import base64\n",
    "from IPython.display import Image, display\n",
    "\n",
    "for idx, image in enumerate(images):\n",
    "    \n",
    "    image_data = base64.b64decode(image)\n",
    "    \n",
    "    path = f\"image_{idx}.jpeg\"\n",
    "    \n",
    "    with open(path, \"wb\") as f:\n",
    "        f.write(image_data)"
   ]
  },
  {
   "cell_type": "code",
   "execution_count": 4,
   "metadata": {},
   "outputs": [],
   "source": [
    "# summarize images\n",
    "import ollama\n",
    "\n",
    "def get_image_summary(file_path):\n",
    "\n",
    "    response = ollama.chat(\n",
    "        model='llama3.2-vision',\n",
    "        messages=[{\n",
    "            'role': 'user',\n",
    "            'content': 'Summarize the image:',\n",
    "            'images': [file_path]\n",
    "        }]\n",
    "    )\n",
    "    return response.message.content"
   ]
  },
  {
   "cell_type": "code",
   "execution_count": null,
   "metadata": {},
   "outputs": [],
   "source": [
    "from tqdm import tqdm\n",
    "image_summaries = [get_image_summary(f\"image_{i+1}.jpeg\") \\\n",
    "                   for i in tqdm(range(len(images)))]"
   ]
  },
  {
   "cell_type": "code",
   "execution_count": null,
   "metadata": {},
   "outputs": [],
   "source": [
    "import pickle\n",
    "\n",
    "with open(\"./docs/image_summaries.pickle\", \"rb\") as h:\n",
    "    image_summaries = pickle.load(h)"
   ]
  },
  {
   "cell_type": "code",
   "execution_count": null,
   "metadata": {},
   "outputs": [],
   "source": []
  },
  {
   "cell_type": "markdown",
   "metadata": {},
   "source": [
    "## Summarize texts"
   ]
  },
  {
   "cell_type": "code",
   "execution_count": null,
   "metadata": {},
   "outputs": [],
   "source": [
    "def get_table_summary(table_html):\n",
    "\n",
    "    response = ollama.chat(\n",
    "        model='llama3.2:1b',\n",
    "        messages=[{\n",
    "            'role': 'user',\n",
    "            'content': f'Summarize this table: {table_html}'\n",
    "        }]\n",
    "    )\n",
    "    \n",
    "    return response.message.content\n",
    "\n",
    "table_summaries = [get_table_summary(tables[i].metadata.text_as_html) \\\n",
    "                   for i in tqdm(range(len(tables)))]"
   ]
  },
  {
   "cell_type": "code",
   "execution_count": null,
   "metadata": {},
   "outputs": [],
   "source": []
  },
  {
   "cell_type": "code",
   "execution_count": null,
   "metadata": {},
   "outputs": [],
   "source": []
  },
  {
   "cell_type": "code",
   "execution_count": null,
   "metadata": {},
   "outputs": [],
   "source": []
  },
  {
   "cell_type": "code",
   "execution_count": null,
   "metadata": {},
   "outputs": [],
   "source": []
  },
  {
   "cell_type": "code",
   "execution_count": null,
   "metadata": {},
   "outputs": [],
   "source": []
  },
  {
   "cell_type": "code",
   "execution_count": null,
   "metadata": {},
   "outputs": [],
   "source": []
  }
 ],
 "metadata": {
  "kernelspec": {
   "display_name": "ragEnv",
   "language": "python",
   "name": "python3"
  },
  "language_info": {
   "codemirror_mode": {
    "name": "ipython",
    "version": 3
   },
   "file_extension": ".py",
   "mimetype": "text/x-python",
   "name": "python",
   "nbconvert_exporter": "python",
   "pygments_lexer": "ipython3",
   "version": "3.12.6"
  }
 },
 "nbformat": 4,
 "nbformat_minor": 2
}
